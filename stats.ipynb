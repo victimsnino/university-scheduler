{
 "nbformat": 4,
 "nbformat_minor": 2,
 "metadata": {
  "language_info": {
   "name": "python",
   "codemirror_mode": {
    "name": "ipython",
    "version": 3
   },
   "version": "3.6.8-final"
  },
  "orig_nbformat": 2,
  "file_extension": ".py",
  "mimetype": "text/x-python",
  "name": "python",
  "npconvert_exporter": "python",
  "pygments_lexer": "ipython3",
  "version": 3,
  "kernelspec": {
   "name": "python36864bit1cb7659a4be14bb7a5a16ea240070133",
   "display_name": "Python 3.6.8 64-bit"
  }
 },
 "cells": [
  {
   "cell_type": "code",
   "execution_count": 7,
   "metadata": {},
   "outputs": [],
   "source": [
    "import pstats\n",
    "p = pstats.Stats('log1.prof')"
   ]
  },
  {
   "cell_type": "code",
   "execution_count": 13,
   "metadata": {},
   "outputs": [
    {
     "output_type": "stream",
     "name": "stdout",
     "text": "Sun Apr 12 23:14:26 2020    log1.prof\n\n         49582303 function calls (46512426 primitive calls) in 152.976 seconds\n\n   Ordered by: internal time\n   List reduced from 4655 to 40 due to restriction <40>\n\n   ncalls  tottime  percall  cumtime  percall filename:lineno(function)\n  2308721   45.784    0.000   45.784    0.000 {method 'match' of '_sre.SRE_Pattern' objects}\n     8310   32.694    0.004   32.694    0.004 {method 'acquire' of '_thread.lock' objects}\n    23375   29.234    0.001   29.234    0.001 {built-in method cplex._internal.py36_cplex12100.Pylolmat_to_CHBmat}\n   182727    6.851    0.000  107.709    0.001 .\\solver.py:70(_get_indexes_by_name)\n      556    5.289    0.010    5.289    0.010 {built-in method cplex._internal.py36_cplex12100.CPXXgetcolname}\n2652168/183336    3.007    0.000    5.870    0.000 G:\\Program Files\\Python36\\Lib\\copy.py:132(deepcopy)\n   120739    2.987    0.000   50.735    0.000 {built-in method builtins.eval}\n16456/16190    2.142    0.000    5.185    0.000 G:\\Program Files\\Python36\\Lib\\sre_parse.py:470(_parse)\n182217/16175    1.310    0.000    2.165    0.000 G:\\Program Files\\Python36\\Lib\\sre_compile.py:64(_compile)\n    23375    1.173    0.000   32.285    0.001 .\\solver.py:17(_add_constraint)\n   183336    1.105    0.000    5.063    0.000 G:\\Program Files\\Python36\\Lib\\copy.py:210(_deepcopy_list)\n   376036    0.999    0.000    0.999    0.000 {method 'setdefault' of 'dict' objects}\n348086/182056    0.948    0.000    1.048    0.000 G:\\Program Files\\Python36\\Lib\\sre_parse.py:173(getwidth)\n  6532247    0.894    0.000    0.894    0.000 {method 'get' of 'dict' objects}\n        1    0.885    0.885    1.407    1.407 G:\\Program Files\\Python36\\lib\\site-packages\\IPython\\core\\completer.py:103(<module>)\n  1595240    0.751    0.000    0.751    0.000 G:\\Program Files\\Python36\\Lib\\sre_parse.py:232(__next)\n  7762609    0.738    0.000    0.738    0.000 {method 'append' of 'list' objects}\n   177863    0.732    0.000  104.812    0.001 .\\solver.py:93(_get_indexes_of_timeslots_by_filter)\n92766/186    0.654    0.000  140.549    0.756 .\\solver.py:259(_decorator)\n  1578275    0.554    0.000    1.285    0.000 G:\\Program Files\\Python36\\Lib\\sre_parse.py:253(get)\n   995449    0.530    0.000    0.792    0.000 G:\\Program Files\\Python36\\Lib\\sre_parse.py:163(__getitem__)\n    55626    0.488    0.000   46.272    0.001 .\\solver.py:48(<listcomp>)\n    33359    0.453    0.000    0.453    0.000 {built-in method cplex._internal.py36_cplex12100.CPXXnewcols}\n  1410222    0.427    0.000    0.583    0.000 G:\\Program Files\\Python36\\Lib\\sre_parse.py:171(append)\n   105154    0.410    0.000    0.739    0.000 G:\\Program Files\\Python36\\Lib\\functools.py:44(update_wrapper)\n  3202224    0.331    0.000    0.331    0.000 {built-in method builtins.id}\n2808754/2642989    0.311    0.000    0.362    0.000 {built-in method builtins.len}\n     6702    0.290    0.000    0.290    0.000 {built-in method nt.stat}\n    23375    0.283    0.000    0.283    0.000 {built-in method cplex._internal.py36_cplex12100.CPXXaddrows}\n    33359    0.283    0.000    1.494    0.000 G:\\Program Files\\Python36\\lib\\site-packages\\cplex\\_internal\\_procedural.py:960(newcols)\n  1114112    0.270    0.000    0.270    0.000 {built-in method unicodedata.name}\n     8161    0.267    0.000   40.313    0.005 .\\solver.py:214(_decorator)\n    74712    0.258    0.000    9.457    0.000 G:\\Program Files\\Python36\\Lib\\re.py:286(_compile)\n   183336    0.255    0.000    0.293    0.000 G:\\Program Files\\Python36\\Lib\\copy.py:252(_keep_alive)\n   900565    0.235    0.000    0.235    0.000 {built-in method builtins.getattr}\n  1210624    0.226    0.000    0.226    0.000 {built-in method builtins.isinstance}\n  2468832    0.210    0.000    0.210    0.000 G:\\Program Files\\Python36\\Lib\\copy.py:190(_deepcopy_atomic)\n    93078    0.209    0.000  101.923    0.001 .\\solver.py:280(get_indexes)\n   146827    0.200    0.000    0.244    0.000 G:\\Program Files\\Python36\\Lib\\contextlib.py:59(__init__)\n    23375    0.192    0.000   30.645    0.001 G:\\Program Files\\Python36\\lib\\site-packages\\cplex\\_internal\\_subinterfaces.py:1175(_add)\n\n\n"
    },
    {
     "output_type": "execute_result",
     "data": {
      "text/plain": "<pstats.Stats at 0x2235037e2b0>"
     },
     "metadata": {},
     "execution_count": 13
    }
   ],
   "source": [
    "p.sort_stats('tottime').print_stats(40)"
   ]
  },
  {
   "cell_type": "code",
   "execution_count": null,
   "metadata": {},
   "outputs": [],
   "source": []
  }
 ]
}