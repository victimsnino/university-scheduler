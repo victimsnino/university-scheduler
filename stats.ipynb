{
 "nbformat": 4,
 "nbformat_minor": 2,
 "metadata": {
  "language_info": {
   "name": "python",
   "codemirror_mode": {
    "name": "ipython",
    "version": 3
   },
   "version": "3.6.8-final"
  },
  "orig_nbformat": 2,
  "file_extension": ".py",
  "mimetype": "text/x-python",
  "name": "python",
  "npconvert_exporter": "python",
  "pygments_lexer": "ipython3",
  "version": 3,
  "kernelspec": {
   "name": "python36864bit1cb7659a4be14bb7a5a16ea240070133",
   "display_name": "Python 3.6.8 64-bit"
  }
 },
 "cells": [
  {
   "cell_type": "code",
   "execution_count": 1,
   "metadata": {},
   "outputs": [],
   "source": [
    "import pstats\n",
    "p = pstats.Stats('log1.prof')"
   ]
  },
  {
   "cell_type": "code",
   "execution_count": 4,
   "metadata": {},
   "outputs": [
    {
     "output_type": "stream",
     "name": "stdout",
     "text": "Wed Apr 15 22:13:13 2020    log1.prof\n\n         49582205 function calls (46512328 primitive calls) in 167.159 seconds\n\n   Ordered by: cumulative time\n   List reduced from 4655 to 40 due to restriction <40>\n\n   ncalls  tottime  percall  cumtime  percall filename:lineno(function)\n    873/1    0.021    0.000  167.303  167.303 {built-in method builtins.exec}\n        1    0.000    0.000  167.303  167.303 .\\main.py:2(<module>)\n        1    0.000    0.000  163.185  163.185 .\\main.py:79(main)\n        1    0.003    0.003  162.184  162.184 .\\solver.py:1088(solve)\n92766/186    0.695    0.000  148.441    0.798 .\\solver.py:259(_decorator)\n      593    0.046    0.000  115.186    0.194 .\\solver.py:222(_decorator)\n   182727    7.416    0.000  113.378    0.001 .\\solver.py:70(_get_indexes_by_name)\n   177863    0.780    0.000  110.243    0.001 .\\solver.py:93(_get_indexes_of_timeslots_by_filter)\n    94950    0.102    0.000  109.703    0.001 .\\solver.py:248(_decorator)\n    93078    0.224    0.000  107.291    0.001 .\\solver.py:280(get_indexes)\n    56214    0.167    0.000   83.444    0.001 .\\solver.py:46(calculate_valid)\n       42    0.004    0.000   71.492    1.702 .\\solver.py:186(_decorator)\n       95    0.009    0.000   61.569    0.648 .\\solver.py:230(_decorator)\n       13    0.001    0.000   60.632    4.664 .\\solver.py:207(_decorator)\n   120739    3.128    0.000   53.503    0.000 {built-in method builtins.eval}\n    55626    0.063    0.000   49.934    0.001 .\\solver.py:47(process_part)\n    55626    0.561    0.000   49.871    0.001 .\\solver.py:48(<listcomp>)\n  2308721   49.311    0.000   49.311    0.000 {method 'match' of '_sre.SRE_Pattern' objects}\n     1296    0.034    0.000   44.394    0.034 .\\solver.py:200(_decorator)\n     8161    0.280    0.000   42.651    0.005 .\\solver.py:214(_decorator)\n    56734    0.171    0.000   35.560    0.001 G:\\Program Files\\Python36\\lib\\site-packages\\cplex\\_internal\\_baseinterface.py:37(_add_iter)\n    23375    1.231    0.000   33.999    0.001 .\\solver.py:17(_add_constraint)\n     8290   33.021    0.004   33.021    0.004 {method 'acquire' of '_thread.lock' objects}\n     1498    0.011    0.000   32.964    0.022 G:\\Program Files\\Python36\\Lib\\threading.py:263(wait)\n    14839    0.093    0.000   32.830    0.002 .\\solver.py:35(_add_soft_constraint)\n    23375    0.054    0.000   32.601    0.001 G:\\Program Files\\Python36\\lib\\site-packages\\cplex\\_internal\\_subinterfaces.py:1200(add)\n    23375    0.211    0.000   32.257    0.001 G:\\Program Files\\Python36\\lib\\site-packages\\cplex\\_internal\\_subinterfaces.py:1175(_add)\n   293875    0.132    0.000   31.374    0.000 {built-in method builtins.next}\n   146827    0.068    0.000   31.144    0.000 G:\\Program Files\\Python36\\Lib\\contextlib.py:79(__enter__)\n    46750    0.070    0.000   30.830    0.001 G:\\Program Files\\Python36\\lib\\site-packages\\cplex\\_internal\\_procedural.py:152(chbmatrix)\n    23375    0.025    0.000   30.706    0.001 G:\\Program Files\\Python36\\lib\\site-packages\\cplex\\_internal\\_procedural.py:163(Pylolmat_to_CHBmat)\n    23375    0.024    0.000   30.681    0.001 G:\\Program Files\\Python36\\lib\\site-packages\\cplex\\_internal\\_pycplex.py:1625(Pylolmat_to_CHBmat)\n    23375   30.657    0.001   30.657    0.001 {built-in method cplex._internal.py36_cplex12100.Pylolmat_to_CHBmat}\n     1176    0.008    0.000   24.255    0.021 G:\\Program Files\\Python36\\Lib\\concurrent\\futures\\_base.py:405(result)\n    61440    0.123    0.000   16.902    0.000 .\\solver.py:806(__soft_constraint_lessons_balanced_during_module)\n     4992    0.124    0.000   16.673    0.003 .\\solver.py:666(__balance_timeslots_in_current_day_every_week)\n      312    0.079    0.000   15.286    0.049 .\\solver.py:573(__ban_windows)\n      192    0.001    0.000   10.883    0.057 .\\solver.py:995(__soft_constraint_ban_windows_between_one_subject_during_day)\n    56485    0.040    0.000    9.840    0.000 G:\\Program Files\\Python36\\Lib\\re.py:231(compile)\n    74712    0.287    0.000    9.820    0.000 G:\\Program Files\\Python36\\Lib\\re.py:286(_compile)\n\n\n"
    },
    {
     "output_type": "execute_result",
     "data": {
      "text/plain": "<pstats.Stats at 0x19bd04c1ac8>"
     },
     "metadata": {},
     "execution_count": 4
    }
   ],
   "source": [
    "p.sort_stats('cumtime').print_stats(40)"
   ]
  },
  {
   "cell_type": "code",
   "execution_count": null,
   "metadata": {},
   "outputs": [],
   "source": []
  }
 ]
}