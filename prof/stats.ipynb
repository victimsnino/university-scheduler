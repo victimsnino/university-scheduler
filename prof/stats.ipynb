{
 "nbformat": 4,
 "nbformat_minor": 2,
 "metadata": {
  "language_info": {
   "name": "python",
   "codemirror_mode": {
    "name": "ipython",
    "version": 3
   },
   "version": "3.6.8-final"
  },
  "orig_nbformat": 2,
  "file_extension": ".py",
  "mimetype": "text/x-python",
  "name": "python",
  "npconvert_exporter": "python",
  "pygments_lexer": "ipython3",
  "version": 3,
  "kernelspec": {
   "name": "python36864bit1cb7659a4be14bb7a5a16ea240070133",
   "display_name": "Python 3.6.8 64-bit"
  }
 },
 "cells": [
  {
   "cell_type": "code",
   "execution_count": 1,
   "metadata": {},
   "outputs": [],
   "source": [
    "import pstats\n",
    "p = pstats.Stats('prof/combined.prof')"
   ]
  },
  {
   "cell_type": "code",
   "execution_count": 2,
   "metadata": {},
   "outputs": [
    {
     "output_type": "stream",
     "name": "stdout",
     "text": "Sat Apr 18 13:22:27 2020    prof/combined.prof\n\n         73862597 function calls (73619929 primitive calls) in 153.327 seconds\n\n   Ordered by: cumulative time\n   List reduced from 3552 to 40 due to restriction <40>\n\n   ncalls  tottime  percall  cumtime  percall filename:lineno(function)\n        1    0.000    0.000  153.384  153.384 g:\\program files\\python36\\lib\\site-packages\\_pytest\\runner.py:80(pytest_runtest_protocol)\n    17/11    0.000    0.000  153.384   13.944 g:\\program files\\python36\\lib\\site-packages\\pluggy\\hooks.py:272(__call__)\n    17/11    0.000    0.000  153.383   13.944 g:\\program files\\python36\\lib\\site-packages\\pluggy\\manager.py:90(_hookexec)\n    17/11    0.000    0.000  153.383   13.944 g:\\program files\\python36\\lib\\site-packages\\pluggy\\manager.py:84(<lambda>)\n    17/11    0.000    0.000  153.383   13.944 g:\\program files\\python36\\lib\\site-packages\\pluggy\\callers.py:157(_multicall)\n        1    0.000    0.000  153.383  153.383 g:\\program files\\python36\\lib\\site-packages\\_pytest\\runner.py:87(runtestprotocol)\n        3    0.000    0.000  153.383   51.128 g:\\program files\\python36\\lib\\site-packages\\_pytest\\runner.py:182(call_and_report)\n        3    0.000    0.000  153.381   51.127 g:\\program files\\python36\\lib\\site-packages\\_pytest\\runner.py:201(call_runtest_hook)\n        3    0.000    0.000  153.381   51.127 g:\\program files\\python36\\lib\\site-packages\\_pytest\\runner.py:228(from_call)\n        3    0.000    0.000  153.381   51.127 g:\\program files\\python36\\lib\\site-packages\\_pytest\\runner.py:208(<lambda>)\n        1    0.000    0.000  153.379  153.379 g:\\program files\\python36\\lib\\site-packages\\_pytest\\runner.py:123(pytest_runtest_call)\n        1    0.000    0.000  153.379  153.379 g:\\program files\\python36\\lib\\site-packages\\_pytest\\python.py:1443(runtest)\n        1    0.001    0.001  153.379  153.379 g:\\program files\\python36\\lib\\site-packages\\_pytest\\python.py:149(pytest_pyfunc_call)\n        1    0.000    0.000  153.367  153.367 D:\\Scheduling\\Tests\\test_scenarios.py:61(test_full_module_for_fourth_course)\n        1    0.004    0.004  152.843  152.843 D:\\Scheduling\\solver.py:1087(solve)\n40769/471    0.271    0.000   95.104    0.202 D:\\Scheduling\\solver.py:256(_decorator)\n       29    0.009    0.000   79.999    2.759 D:\\Scheduling\\solver.py:183(_decorator)\n    43382    2.938    0.000   73.808    0.002 D:\\Scheduling\\solver.py:18(add_constraint)\n    90782    0.219    0.000   73.110    0.001 g:\\program files\\python36\\lib\\site-packages\\cplex\\_internal\\_baseinterface.py:37(_add_iter)\n    43382    0.077    0.000   70.613    0.002 g:\\program files\\python36\\lib\\site-packages\\cplex\\_internal\\_subinterfaces.py:1200(add)\n    43382    0.308    0.000   70.111    0.002 g:\\program files\\python36\\lib\\site-packages\\cplex\\_internal\\_subinterfaces.py:1175(_add)\n458209/458166    0.179    0.000   68.683    0.000 {built-in method builtins.next}\n    26510    0.124    0.000   68.381    0.003 D:\\Scheduling\\solver.py:36(add_soft_constraint)\n228991/228975    0.089    0.000   68.357    0.000 G:\\Program Files\\Python36\\Lib\\contextlib.py:79(__enter__)\n    86764    0.097    0.000   67.986    0.001 g:\\program files\\python36\\lib\\site-packages\\cplex\\_internal\\_procedural.py:152(chbmatrix)\n    43382    0.034    0.000   67.803    0.002 g:\\program files\\python36\\lib\\site-packages\\cplex\\_internal\\_procedural.py:163(Pylolmat_to_CHBmat)\n    43382    0.033    0.000   67.769    0.002 g:\\program files\\python36\\lib\\site-packages\\cplex\\_internal\\_pycplex.py:1625(Pylolmat_to_CHBmat)\n    43382   67.737    0.002   67.737    0.002 {built-in method cplex._internal.py36_cplex12100.Pylolmat_to_CHBmat}\n      116    0.006    0.000   57.020    0.492 D:\\Scheduling\\solver.py:227(_decorator)\n     1931    0.072    0.000   45.734    0.024 D:\\Scheduling\\solver.py:219(_decorator)\n      845    0.133    0.000   40.222    0.048 D:\\Scheduling\\solver.py:572(__ban_windows)\n      455    0.002    0.000   35.833    0.079 D:\\Scheduling\\solver.py:994(__soft_constraint_ban_windows_between_one_subject_during_day)\n        1    0.000    0.000   32.120   32.120 g:\\program files\\python36\\lib\\site-packages\\cplex\\__init__.py:1282(solve)\n        1    0.000    0.000   32.120   32.120 g:\\program files\\python36\\lib\\site-packages\\cplex\\_internal\\_procedural.py:689(mipopt)\n        1    0.000    0.000   32.119   32.119 g:\\program files\\python36\\lib\\site-packages\\cplex\\_internal\\_pycplex.py:1532(CPXXmipopt)\n        1   32.091   32.091   32.119   32.119 {built-in method cplex._internal.py36_cplex12100.CPXXmipopt}\n    44409    0.044    0.000   31.158    0.001 D:\\Scheduling\\solver.py:245(_decorator)\n        9    0.001    0.000   24.388    2.710 D:\\Scheduling\\solver.py:204(_decorator)\n    73738    5.536    0.000   23.350    0.000 D:\\Scheduling\\solver.py:94(_get_indexes_of_timeslots_by_filter)\n    41289    0.139    0.000   23.302    0.001 D:\\Scheduling\\solver.py:277(get_indexes)\n\n\n"
    },
    {
     "output_type": "execute_result",
     "data": {
      "text/plain": "<pstats.Stats at 0x1213eb11630>"
     },
     "metadata": {},
     "execution_count": 2
    }
   ],
   "source": [
    "p.sort_stats('cumtime').print_stats(40)"
   ]
  },
  {
   "cell_type": "code",
   "execution_count": null,
   "metadata": {},
   "outputs": [],
   "source": []
  }
 ]
}