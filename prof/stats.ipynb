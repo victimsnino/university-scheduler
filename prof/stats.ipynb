{
 "nbformat": 4,
 "nbformat_minor": 2,
 "metadata": {
  "language_info": {
   "name": "python",
   "codemirror_mode": {
    "name": "ipython",
    "version": 3
   },
   "version": "3.6.8-final"
  },
  "orig_nbformat": 2,
  "file_extension": ".py",
  "mimetype": "text/x-python",
  "name": "python",
  "npconvert_exporter": "python",
  "pygments_lexer": "ipython3",
  "version": 3,
  "kernelspec": {
   "name": "python36864bit1cb7659a4be14bb7a5a16ea240070133",
   "display_name": "Python 3.6.8 64-bit"
  }
 },
 "cells": [
  {
   "cell_type": "code",
   "execution_count": 5,
   "metadata": {},
   "outputs": [],
   "source": [
    "import pstats\n",
    "p = pstats.Stats('combined.prof')"
   ]
  },
  {
   "cell_type": "code",
   "execution_count": 7,
   "metadata": {},
   "outputs": [
    {
     "output_type": "stream",
     "name": "stdout",
     "text": "Sun Apr 19 13:47:34 2020    combined.prof\n\n         52820332 function calls (52708015 primitive calls) in 36.995 seconds\n\n   Ordered by: internal time\n   List reduced from 3599 to 40 due to restriction <40>\n\n   ncalls  tottime  percall  cumtime  percall filename:lineno(function)\n  3736512    4.806    0.000   10.087    0.000 D:\\Scheduling\\id_wrapper.py:40(__eq__)\n    12913    3.982    0.000    3.982    0.000 {method 'acquire' of '_thread.lock' objects}\n 19582464    2.945    0.000    2.945    0.000 D:\\Scheduling\\id_wrapper.py:3(_is_equal)\n    99475    2.394    0.000    8.947    0.000 {built-in method builtins.eval}\n  3831600    2.105    0.000    3.203    0.000 D:\\Scheduling\\id_wrapper.py:11(__eq__)\n   112739    2.063    0.000   12.935    0.000 D:\\Scheduling\\solver.py:128(<listcomp>)\n   154108    1.921    0.000   20.288    0.000 D:\\Scheduling\\solver.py:150(_get_indexes_from_container)\n        1    0.856    0.856    1.396    1.396 g:\\program files\\python36\\lib\\site-packages\\IPython\\core\\completer.py:103(<module>)\n  5105149    0.760    0.000    0.760    0.000 {method 'get' of 'dict' objects}\n86934/242    0.574    0.000   30.633    0.127 D:\\Scheduling\\solver.py:297(_decorator)\n    50706    0.542    0.000    3.634    0.000 D:\\Scheduling\\solver.py:38(add_variables)\n    38339    0.439    0.000    0.439    0.000 {built-in method cplex._internal.py36_cplex12100.CPXXaddrows}\n   166252    0.433    0.000    0.455    0.000 D:\\Scheduling\\id_wrapper.py:36(__str__)\n    34582    0.404    0.000    0.404    0.000 {built-in method cplex._internal.py36_cplex12100.CPXXgetcolname}\n    99793    0.383    0.000    0.681    0.000 G:\\Program Files\\Python36\\Lib\\functools.py:44(update_wrapper)\n    50706    0.382    0.000    1.670    0.000 g:\\program files\\python36\\lib\\site-packages\\cplex\\_internal\\_procedural.py:960(newcols)\n4385199/4384845    0.377    0.000    0.378    0.000 {built-in method builtins.len}\n   166252    0.359    0.000    0.533    0.000 D:\\Scheduling\\id_wrapper.py:25(__init__)\n  1114112    0.269    0.000    0.269    0.000 {built-in method unicodedata.name}\n   148972    0.255    0.000   20.529    0.000 D:\\Scheduling\\solver.py:161(get_indexes_of_timeslots_by_filter)\n    38339    0.247    0.000    0.247    0.000 {built-in method cplex._internal.py36_cplex12100.Pylolmat_to_CHBmat}\n   228823    0.246    0.000    0.298    0.000 G:\\Program Files\\Python36\\Lib\\contextlib.py:59(__init__)\n     7422    0.228    0.000   21.865    0.003 D:\\Scheduling\\solver.py:260(_decorator)\n942926/942924    0.220    0.000    0.220    0.000 {built-in method builtins.getattr}\n    38339    0.219    0.000    2.032    0.000 g:\\program files\\python36\\lib\\site-packages\\cplex\\_internal\\_subinterfaces.py:1175(_add)\n     1152    0.217    0.000    0.275    0.000 D:\\Scheduling\\solver.py:559(get_greater_index)\n   127384    0.214    0.000    0.332    0.000 g:\\program files\\python36\\lib\\site-packages\\cplex\\_internal\\_aux_functions.py:273(init_list_args)\n228823/228807    0.209    0.000    0.599    0.000 G:\\Program Files\\Python36\\Lib\\contextlib.py:85(__exit__)\n   380914    0.202    0.000    0.502    0.000 g:\\program files\\python36\\lib\\site-packages\\cplex\\_internal\\_list_array_utils.py:105(double_c_array)\n    89045    0.198    0.000    4.987    0.000 g:\\program files\\python36\\lib\\site-packages\\cplex\\_internal\\_baseinterface.py:37(_add_iter)\n    50706    0.197    0.000    0.197    0.000 {built-in method cplex._internal.py36_cplex12100.CPXXnewcols}\n   330296    0.196    0.000    0.196    0.000 {method 'setdefault' of 'dict' objects}\n    38339    0.178    0.000    2.830    0.000 D:\\Scheduling\\solver.py:19(add_constraint)\n     5280    0.173    0.000    3.818    0.001 D:\\Scheduling\\solver.py:706(__balance_timeslots_in_current_day_every_week)\n    50706    0.173    0.000    2.360    0.000 g:\\program files\\python36\\lib\\site-packages\\cplex\\_internal\\_subinterfaces.py:368(_add)\n457875/457832    0.171    0.000    1.099    0.000 {built-in method builtins.next}\n     3027    0.162    0.000    0.162    0.000 {built-in method nt.stat}\n  1114618    0.162    0.000    0.162    0.000 {built-in method builtins.chr}\n    87462    0.160    0.000   20.897    0.000 D:\\Scheduling\\solver.py:318(get_indexes)\n    89166    0.155    0.000    0.823    0.000 D:\\Scheduling\\solver.py:285(wrapper)\n\n\n"
    },
    {
     "output_type": "execute_result",
     "data": {
      "text/plain": "<pstats.Stats at 0x15262043208>"
     },
     "metadata": {},
     "execution_count": 7
    }
   ],
   "source": [
    "p.sort_stats('tottime').print_stats(40)"
   ]
  },
  {
   "cell_type": "code",
   "execution_count": null,
   "metadata": {},
   "outputs": [],
   "source": []
  }
 ]
}